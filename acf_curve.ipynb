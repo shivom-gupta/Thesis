{
 "cells": [
  {
   "cell_type": "code",
   "execution_count": 1,
   "metadata": {},
   "outputs": [],
   "source": [
    "from ising import *\n",
    "import matplotlib.pyplot as plt\n",
    "import numpy as np\n",
    "from acf import calculate_acf"
   ]
  },
  {
   "cell_type": "code",
   "execution_count": 2,
   "metadata": {},
   "outputs": [],
   "source": [
    "J = 1\n",
    "size = 1000\n",
    "n_steps = 100000\n",
    "params = {'beta': np.linspace(0.5, 5, 10), 'estimate': np.empty(10), 'exact' : np.empty(10), 'tau' : np.empty(10)}"
   ]
  },
  {
   "cell_type": "code",
   "execution_count": 3,
   "metadata": {},
   "outputs": [],
   "source": [
    "for i, beta in enumerate(params['beta']):\n",
    "    configuration = np.random.choice([-1, 1], size)\n",
    "    params['estimate'][i], _ = monte_carlo(n_steps=n_steps, beta=beta, J=J, h=0, configuration=configuration)\n",
    "    params['exact'][i] = energy(beta, J, N= size)"
   ]
  },
  {
   "cell_type": "code",
   "execution_count": 4,
   "metadata": {},
   "outputs": [],
   "source": [
    "SE = (params['estimate'] -  params['exact']).std()/np.sqrt(10)"
   ]
  },
  {
   "cell_type": "code",
   "execution_count": 5,
   "metadata": {},
   "outputs": [
    {
     "data": {
      "text/plain": [
       "0.81766251607384"
      ]
     },
     "execution_count": 5,
     "metadata": {},
     "output_type": "execute_result"
    }
   ],
   "source": [
    "np.abs(SE*100/params['estimate'].mean())"
   ]
  },
  {
   "cell_type": "code",
   "execution_count": 6,
   "metadata": {},
   "outputs": [],
   "source": [
    "for i, beta in enumerate(params['beta']):\n",
    "    corrs = np.array([calculate_acf(size, n_steps, beta, J) for _ in range(250)])\n",
    "    corr = corrs.mean(axis=0)\n",
    "    tau = 1/2\n",
    "    for c in corr:\n",
    "        tau += c\n",
    "        if i >= 6 * tau:\n",
    "            break\n",
    "        else:\n",
    "            continue\n",
    "    params['tau'][i] = tau\n",
    "    "
   ]
  },
  {
   "cell_type": "code",
   "execution_count": 7,
   "metadata": {},
   "outputs": [
    {
     "data": {
      "text/plain": [
       "[<matplotlib.lines.Line2D at 0x137ba5310>]"
      ]
     },
     "execution_count": 7,
     "metadata": {},
     "output_type": "execute_result"
    },
    {
     "data": {
      "image/png": "[encoded data removed]",
      "text/plain": [
       "<Figure size 640x480 with 1 Axes>"
      ]
     },
     "metadata": {},
     "output_type": "display_data"
    }
   ],
   "source": [
    "plt.plot(params['beta'], params['tau'])"
   ]
  }
 ],
 "metadata": {
  "kernelspec": {
   "display_name": "base",
   "language": "python",
   "name": "python3"
  },
  "language_info": {
   "codemirror_mode": {
    "name": "ipython",
    "version": 3
   },
   "file_extension": ".py",
   "mimetype": "text/x-python",
   "name": "python",
   "nbconvert_exporter": "python",
   "pygments_lexer": "ipython3",
   "version": "3.11.5"
  },
  "orig_nbformat": 4
 },
 "nbformat": 4,
 "nbformat_minor": 2
}
