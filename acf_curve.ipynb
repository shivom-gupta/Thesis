{
 "cells": [
  {
   "cell_type": "code",
   "execution_count": 1,
   "metadata": {},
   "outputs": [],
   "source": [
    "from ising import *\n",
    "import matplotlib.pyplot as plt\n",
    "import numpy as np\n",
    "from acf import acf"
   ]
  },
  {
   "cell_type": "code",
   "execution_count": 2,
   "metadata": {},
   "outputs": [],
   "source": [
    "J = 1\n",
    "h = 0\n",
    "size = 1_000\n",
    "n_sweeps = 100_000\n",
    "n_betas = 5\n",
    "params = {'beta': np.linspace(0.5, 3, n_betas), 'estimate': np.empty((n_betas)), 'exact' : np.empty(n_betas), 'tau' : np.empty(n_betas), 'energies': np.empty((n_betas, n_sweeps)), 'magnetizations': np.empty((n_betas, n_sweeps))}"
   ]
  },
  {
   "cell_type": "code",
   "execution_count": 3,
   "metadata": {},
   "outputs": [],
   "source": [
    "init_configuration = get_configuration(size)\n",
    "for i, beta in enumerate(params['beta']):\n",
    "    params['energies'][i], params['magnetizations'][i]= monte_carlo_noconfig(n_sweeps=n_sweeps, beta=beta, J=J, h=h, configuration=init_configuration)\n",
    "    params['estimate'][i] = params['energies'][i][-1]\n",
    "    params['exact'][i] = exact_energy(beta, J, N= size)"
   ]
  },
  {
   "cell_type": "code",
   "execution_count": 4,
   "metadata": {},
   "outputs": [],
   "source": [
    "SE = (params['estimate'] -  params['exact']).std()/np.sqrt(n_betas)"
   ]
  },
  {
   "cell_type": "code",
   "execution_count": 5,
   "metadata": {},
   "outputs": [
    {
     "data": {
      "text/plain": [
       "1.2386609010904306"
      ]
     },
     "execution_count": 5,
     "metadata": {},
     "output_type": "execute_result"
    }
   ],
   "source": [
    "np.abs(SE*100/params['estimate'].mean())"
   ]
  },
  {
   "cell_type": "code",
   "execution_count": 6,
   "metadata": {},
   "outputs": [
    {
     "name": "stdout",
     "output_type": "stream",
     "text": [
      "beta = 0.50, tau = 3.78\n",
      "beta = 1.12, tau = 29.60\n",
      "beta = 1.75, tau = 236.78\n",
      "beta = 2.38, tau = 1772.34\n",
      "beta = 3.00, tau = 3999.06\n"
     ]
    }
   ],
   "source": [
    "for i, beta in enumerate(params['beta']):\n",
    "    corr = acf(params['magnetizations'][i], 10_000)\n",
    "    tau = 1/2\n",
    "    for j in range(corr.shape[-1]):\n",
    "        tau += corr[j]\n",
    "        if j >= 6 * tau:\n",
    "            break\n",
    "        else:\n",
    "            continue\n",
    "    params['tau'][i] = tau\n",
    "    print(f'beta = {beta:.2f}, tau = {tau:.2f}')\n",
    "    "
   ]
  },
  {
   "cell_type": "code",
   "execution_count": 7,
   "metadata": {},
   "outputs": [
    {
     "data": {
      "image/png": "[encoded data removed]",
      "text/plain": [
       "<Figure size 640x480 with 1 Axes>"
      ]
     },
     "metadata": {},
     "output_type": "display_data"
    }
   ],
   "source": [
    "plt.plot(params['beta'], params['tau'])\n",
    "plt.yscale('log')"
   ]
  },
  {
   "cell_type": "code",
   "execution_count": 8,
   "metadata": {},
   "outputs": [
    {
     "data": {
      "text/plain": [
       "array([3.78357468e+00, 2.96015868e+01, 2.36779896e+02, 1.77233620e+03,\n",
       "       3.99906494e+03])"
      ]
     },
     "execution_count": 8,
     "metadata": {},
     "output_type": "execute_result"
    }
   ],
   "source": [
    "params['tau']"
   ]
  }
 ],
 "metadata": {
  "kernelspec": {
   "display_name": "base",
   "language": "python",
   "name": "python3"
  },
  "language_info": {
   "codemirror_mode": {
    "name": "ipython",
    "version": 3
   },
   "file_extension": ".py",
   "mimetype": "text/x-python",
   "name": "python",
   "nbconvert_exporter": "python",
   "pygments_lexer": "ipython3",
   "version": "3.10.12"
  },
  "orig_nbformat": 4
 },
 "nbformat": 4,
 "nbformat_minor": 2
}
