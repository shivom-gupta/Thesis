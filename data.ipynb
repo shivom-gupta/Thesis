{
 "cells": [
  {
   "cell_type": "code",
   "execution_count": 1,
   "metadata": {},
   "outputs": [],
   "source": [
    "from generate_configurations import generate_configurations, read_configurations\n",
    "from glob import glob"
   ]
  },
  {
   "cell_type": "code",
   "execution_count": 2,
   "metadata": {},
   "outputs": [],
   "source": [
    "betas = [0.5, 1, 2]\n",
    "sizes = [100 ,1000]\n",
    "J = 1\n",
    "h = 0\n",
    "n = 1_000_000"
   ]
  },
  {
   "cell_type": "code",
   "execution_count": 3,
   "metadata": {},
   "outputs": [
    {
     "name": "stdout",
     "output_type": "stream",
     "text": [
      "File 100_0.5 generated successfully\n",
      "File 1000_0.5 generated successfully\n",
      "File 100_1 generated successfully\n",
      "File 1000_1 generated successfully\n",
      "File 100_2 generated successfully\n",
      "File 1000_2 generated successfully\n"
     ]
    }
   ],
   "source": [
    "for beta in betas:\n",
    "    for size in sizes:\n",
    "        names = str(size) + \"_\" + str(beta)\n",
    "        generate_configurations(size, n, beta, file_name= names)"
   ]
  },
  {
   "cell_type": "code",
   "execution_count": 4,
   "metadata": {},
   "outputs": [
    {
     "data": {
      "text/plain": [
       "['1000_2.npz',\n",
       " '1000_1.npz',\n",
       " '1000_0.5.npz',\n",
       " '100_2.npz',\n",
       " '100_1.npz',\n",
       " '100_0.5.npz']"
      ]
     },
     "execution_count": 4,
     "metadata": {},
     "output_type": "execute_result"
    }
   ],
   "source": [
    "files = glob(\"*.npz\", root_dir=\"data\")\n",
    "files"
   ]
  },
  {
   "cell_type": "code",
   "execution_count": 5,
   "metadata": {},
   "outputs": [
    {
     "name": "stdout",
     "output_type": "stream",
     "text": [
      "1000_2.npz\n",
      "(440, 1000)\n",
      "1000_1.npz\n",
      "(14281, 1000)\n",
      "1000_0.5.npz\n",
      "(71424, 1000)\n",
      "100_2.npz\n",
      "(445, 100)\n",
      "100_1.npz\n",
      "(14488, 100)\n",
      "100_0.5.npz\n",
      "(71424, 100)\n"
     ]
    }
   ],
   "source": [
    "for file in files:\n",
    "    print(file)\n",
    "    configs = read_configurations('data/'+file)\n",
    "    print(configs.shape)"
   ]
  }
 ],
 "metadata": {
  "kernelspec": {
   "display_name": "base",
   "language": "python",
   "name": "python3"
  },
  "language_info": {
   "codemirror_mode": {
    "name": "ipython",
    "version": 3
   },
   "file_extension": ".py",
   "mimetype": "text/x-python",
   "name": "python",
   "nbconvert_exporter": "python",
   "pygments_lexer": "ipython3",
   "version": "3.10.12"
  }
 },
 "nbformat": 4,
 "nbformat_minor": 2
}
