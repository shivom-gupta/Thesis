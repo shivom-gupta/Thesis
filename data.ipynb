{
 "cells": [
  {
   "cell_type": "code",
   "execution_count": 1,
   "metadata": {},
   "outputs": [],
   "source": [
    "from glob import glob\n",
    "from IsingClass import Ising"
   ]
  },
  {
   "cell_type": "code",
   "execution_count": 2,
   "metadata": {},
   "outputs": [],
   "source": [
    "betas = [0.5, 1, 2]\n",
    "sizes = [100 ,1000]\n",
    "J = 1\n",
    "h = 0\n",
    "n_sweeps = 35_000_000"
   ]
  },
  {
   "cell_type": "code",
   "execution_count": 3,
   "metadata": {},
   "outputs": [
    {
     "data": {
      "text/plain": [
       "{'0.5': 3.62254, '1': 17.2218, '2': 793.63524}"
      ]
     },
     "execution_count": 3,
     "metadata": {},
     "output_type": "execute_result"
    }
   ],
   "source": [
    "taus = Ising.load_tau()\n",
    "taus"
   ]
  },
  {
   "cell_type": "markdown",
   "metadata": {},
   "source": [
    "for beta in betas:\n",
    "    ising = Ising(sizes[1], n_sweeps, beta, J, h)\n",
    "    ising.monte_carlo()\n",
    "    ising.calculate_tau(ising.magnetizations)\n"
   ]
  },
  {
   "cell_type": "code",
   "execution_count": 4,
   "metadata": {},
   "outputs": [
    {
     "name": "stdout",
     "output_type": "stream",
     "text": [
      "Monte Carlo finished\n",
      "File 100_0.5 generated successfully\n",
      "Monte Carlo finished\n",
      "File 1000_0.5 generated successfully\n",
      "Monte Carlo finished\n",
      "File 100_1 generated successfully\n",
      "Monte Carlo finished\n",
      "File 1000_1 generated successfully\n",
      "Monte Carlo finished\n",
      "File 100_2 generated successfully\n",
      "Monte Carlo finished\n",
      "File 1000_2 generated successfully\n"
     ]
    }
   ],
   "source": [
    "for beta in betas:\n",
    "    for size in sizes:\n",
    "        name = str(size) + \"_\" + str(beta)\n",
    "        ising = Ising(size, n_sweeps, beta, J, h)\n",
    "        ising.monte_carlo(taus[str(beta)], 10_000)\n",
    "        ising.save_configurations(name)"
   ]
  },
  {
   "cell_type": "code",
   "execution_count": 5,
   "metadata": {},
   "outputs": [
    {
     "data": {
      "text/plain": [
       "['1000_2.npz',\n",
       " '1000_1.npz',\n",
       " '1000_0.5.npz',\n",
       " '100_2.npz',\n",
       " '100_1.npz',\n",
       " '100_0.5.npz']"
      ]
     },
     "execution_count": 5,
     "metadata": {},
     "output_type": "execute_result"
    }
   ],
   "source": [
    "files = glob(\"*.npz\", root_dir=\"data\")\n",
    "files"
   ]
  },
  {
   "cell_type": "code",
   "execution_count": 6,
   "metadata": {},
   "outputs": [
    {
     "name": "stdout",
     "output_type": "stream",
     "text": [
      "1000_2.npz\n",
      "(10000, 1000)\n",
      "1000_1.npz\n",
      "(10000, 1000)\n",
      "1000_0.5.npz\n",
      "(10000, 1000)\n",
      "100_2.npz\n",
      "(10000, 100)\n",
      "100_1.npz\n",
      "(10000, 100)\n",
      "100_0.5.npz\n",
      "(10000, 100)\n"
     ]
    }
   ],
   "source": [
    "from generate_configurations import read_configurations\n",
    "for file in files:\n",
    "    print(file)\n",
    "    configs, _,_ = read_configurations('data/'+file)\n",
    "    print(configs.shape)"
   ]
  }
 ],
 "metadata": {
  "kernelspec": {
   "display_name": "Python 3 (ipykernel)",
   "language": "python",
   "name": "python3"
  },
  "language_info": {
   "codemirror_mode": {
    "name": "ipython",
    "version": 3
   },
   "file_extension": ".py",
   "mimetype": "text/x-python",
   "name": "python",
   "nbconvert_exporter": "python",
   "pygments_lexer": "ipython3",
   "version": "3.10.12"
  }
 },
 "nbformat": 4,
 "nbformat_minor": 2
}
